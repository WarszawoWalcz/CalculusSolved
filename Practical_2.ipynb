{
  "nbformat": 4,
  "nbformat_minor": 0,
  "metadata": {
    "colab": {
      "name": "Kopia notatnika Practical2.ipynb",
      "provenance": [],
      "collapsed_sections": [],
      "include_colab_link": true
    },
    "kernelspec": {
      "name": "python3",
      "display_name": "Python 3"
    }
  },
  "cells": [
    {
      "cell_type": "markdown",
      "metadata": {
        "id": "view-in-github",
        "colab_type": "text"
      },
      "source": [
        "<a href=\"https://colab.research.google.com/github/WarszawoWalcz/CalculusSolved/blob/main/Practical_2.ipynb\" target=\"_parent\"><img src=\"https://colab.research.google.com/assets/colab-badge.svg\" alt=\"Open In Colab\"/></a>"
      ]
    },
    {
      "cell_type": "code",
      "metadata": {
        "id": "wr2zk0-5w-3d"
      },
      "source": [
        ""
      ],
      "execution_count": null,
      "outputs": []
    },
    {
      "cell_type": "markdown",
      "metadata": {
        "id": "jwaNtNeRxAwQ"
      },
      "source": [
        "# Practical 2: Sets and functions\n",
        "\n",
        "In mathematics, a set is a collection of unique objects without an order. For example, the sets $\\{0,1,2\\}$ and \\{1,0,2\\} are identical. Futhermore, since each element in a set is unique, the set $\\{0,0,1,2\\}$ is identical to \\{0,1,2\\}.\n",
        "\n",
        "## Sets\n",
        "\n",
        "Python has a set data structure that encodes those important properties of mathematical sets. A Python set can be defined as follows:"
      ]
    },
    {
      "cell_type": "code",
      "metadata": {
        "id": "hUNqkhTemEg2"
      },
      "source": [
        "A = {0,1,2}"
      ],
      "execution_count": null,
      "outputs": []
    },
    {
      "cell_type": "markdown",
      "metadata": {
        "id": "qMd3k4cqoXTP"
      },
      "source": [
        "Python sets do not store the order and remove duplications, for example:"
      ]
    },
    {
      "cell_type": "code",
      "metadata": {
        "id": "4I9pFsNWof4S",
        "colab": {
          "base_uri": "https://localhost:8080/"
        },
        "outputId": "70e0eedc-ceb0-4f77-fb49-addab0f62ef9"
      },
      "source": [
        "A = {0,1,2}\n",
        "B = {1,0,2}\n",
        "\n",
        "print(A == B)\n",
        "\n",
        "A = {0,0,1,2}\n",
        "B = {0,1,2}\n",
        "\n",
        "print(A == B)"
      ],
      "execution_count": null,
      "outputs": [
        {
          "output_type": "stream",
          "name": "stdout",
          "text": [
            "True\n",
            "True\n"
          ]
        }
      ]
    },
    {
      "cell_type": "markdown",
      "metadata": {
        "id": "ZSyA-dATmLWK"
      },
      "source": [
        "You can also define the set of all numbers satisfieng a given property, for example, this is the set of all the positive integers smaller than 20 divisible by 4:"
      ]
    },
    {
      "cell_type": "code",
      "metadata": {
        "id": "8GHaxSQEmSe-",
        "colab": {
          "base_uri": "https://localhost:8080/",
          "height": 35
        },
        "outputId": "dea12e55-147c-4ebe-d243-6776fa505d53"
      },
      "source": [
        "A = {a for a in range(20) if a % 4 == 0}\n",
        "\n",
        "print(A)"
      ],
      "execution_count": null,
      "outputs": [
        {
          "output_type": "stream",
          "text": [
            "{0, 4, 8, 12, 16}\n"
          ],
          "name": "stdout"
        }
      ]
    },
    {
      "cell_type": "markdown",
      "metadata": {
        "id": "LKo1E19GnYD6"
      },
      "source": [
        "where $a$ % $b$ is remainder of $a$ when divided by $b$.\n",
        "\n",
        "### Solved exercise 1\n",
        "Using Python, create the set of all prime numbers smaller than 30. Remember that a prime number is defined as a number only divisible by 1 and by itself.\n",
        "\n",
        "#### Solution\n",
        "We can check if a number is prime by dividing it from all numbers smaller than itself and checking that the remainder is always different from 0. Let's define this primality check function as follows:"
      ]
    },
    {
      "cell_type": "code",
      "metadata": {
        "id": "boZlXAKkxve3",
        "colab": {
          "base_uri": "https://localhost:8080/"
        },
        "outputId": "a6d25ba5-ba32-43a1-961f-255ce6d36549"
      },
      "source": [
        "def is_prime(n):\n",
        "  for k in range(2,n):\n",
        "    if n % k == 0:\n",
        "      return False\n",
        "  return True\n",
        "\n",
        "is_prime(10)\n"
      ],
      "execution_count": null,
      "outputs": [
        {
          "output_type": "execute_result",
          "data": {
            "text/plain": [
              "False"
            ]
          },
          "metadata": {},
          "execution_count": 2
        }
      ]
    },
    {
      "cell_type": "markdown",
      "metadata": {
        "id": "NXQX8tqLpysZ"
      },
      "source": [
        "We can now use this function to create the set of primes smaller than 30:"
      ]
    },
    {
      "cell_type": "code",
      "metadata": {
        "id": "pZjaE9AmltOx",
        "colab": {
          "base_uri": "https://localhost:8080/"
        },
        "outputId": "926ac1b5-d05a-4bf4-e318-684a6fb64158"
      },
      "source": [
        "primes = {p for p in range(2,30) if is_prime(p)}\n",
        "print(\"The primes smaller than 30 are {}\".format(primes))"
      ],
      "execution_count": null,
      "outputs": [
        {
          "output_type": "stream",
          "name": "stdout",
          "text": [
            "The primes smaller than 30 are {2, 3, 5, 7, 11, 13, 17, 19, 23, 29}\n"
          ]
        }
      ]
    },
    {
      "cell_type": "markdown",
      "metadata": {
        "id": "rIwkH_WRqM0m"
      },
      "source": [
        "### Exercises 1\n",
        "- Using Python, create the set of all integers smaller than 30 and divisible by 6\n",
        "- Using Python, create the set of all square numbers smaller than 40\n",
        "- Using Python, create the set of all cube numbers smaller than 35\n",
        "- Using Python, create the set of all numbers smaller than 40 that are co-prime with 10 (Two numbers are co-prime if the only number that divides both is 1)"
      ]
    },
    {
      "cell_type": "code",
      "metadata": {
        "id": "KHLfIGO22AL4",
        "colab": {
          "base_uri": "https://localhost:8080/"
        },
        "outputId": "8c459bbb-a012-43c0-db24-56c2f9d66d1e"
      },
      "source": [
        "#Exercise1.1\n",
        "div6 = {d for d in range(1,29) if d % 6 == 0}\n",
        "print(\"The integers smaller than 30 and divisible by 6 are {}\".format(div6))\n",
        "\n",
        "#Im wondering why it show the numbers from the highest one to the lowest one :P"
      ],
      "execution_count": null,
      "outputs": [
        {
          "output_type": "stream",
          "name": "stdout",
          "text": [
            "The integers smaller than 30 and divisible by 6 are {24, 18, 12, 6}\n"
          ]
        }
      ]
    },
    {
      "cell_type": "code",
      "metadata": {
        "id": "HITW3WGo4rgS",
        "colab": {
          "base_uri": "https://localhost:8080/"
        },
        "outputId": "722d56a5-3938-4876-8c31-d731fa5eecd4"
      },
      "source": [
        "#Ex1.2\n",
        "sqr40 = {s for s in range(0,40) if s**2 < 40}\n",
        "print(\"The square numbers smaller than 40 are {}\".format(sqr40))\n",
        "#I cant print out square values :("
      ],
      "execution_count": null,
      "outputs": [
        {
          "output_type": "stream",
          "name": "stdout",
          "text": [
            "The square numbers smaller than 40 are {0, 1, 2, 3, 4, 5, 6}\n"
          ]
        }
      ]
    },
    {
      "cell_type": "code",
      "metadata": {
        "id": "7H14a8jh73FQ",
        "colab": {
          "base_uri": "https://localhost:8080/"
        },
        "outputId": "37fedfee-5e85-4887-9e19-fcfe76b3f1ab"
      },
      "source": [
        "#Ex1.3\n",
        "cube35 = {c for c in range(0,35) if c**3 < 35}\n",
        "print(\"The cube numbers smaller than 35 are {}\".format(cube35))\n",
        "#I cant print out cube values"
      ],
      "execution_count": null,
      "outputs": [
        {
          "output_type": "stream",
          "name": "stdout",
          "text": [
            "The cube numbers smaller than 35 are {0, 1, 2, 3}\n"
          ]
        }
      ]
    },
    {
      "cell_type": "code",
      "metadata": {
        "id": "_sS_CCZr9ezK",
        "colab": {
          "base_uri": "https://localhost:8080/"
        },
        "outputId": "79700908-23aa-44af-83f5-16bbc9846c0e"
      },
      "source": [
        "#Ex1.4\n",
        "co40 = {c for c in range(1,40) if c%2 != 0 and c%5 != 0}\n",
        "print(\"are {}\".format(co40))\n",
        "\n",
        "#I wonder why it puts out the numbers in such pattern"
      ],
      "execution_count": null,
      "outputs": [
        {
          "output_type": "stream",
          "name": "stdout",
          "text": [
            "are {1, 33, 3, 37, 7, 39, 9, 11, 13, 17, 19, 21, 23, 27, 29, 31}\n"
          ]
        }
      ]
    },
    {
      "cell_type": "markdown",
      "metadata": {
        "id": "OMrEALVxyeGv"
      },
      "source": [
        "## Functions\n",
        "\n",
        "Functions are operations that transform every possible input $x$ into a well determined output $y$. For example, a function can output $y$ from a series of arithmetic operations on $x$ such as in the following case:\n",
        "\n",
        "$$\n",
        "y = f(x) = \\frac{4 x + 6 x^2 + 6}{2x}\n",
        "$$\n",
        "\n",
        "A function can also be defined in pieces, for example, the absolute value function is defined as follows:\n",
        "\n",
        "$$\n",
        "\\begin{align}\n",
        "|x| = \\left\\{ \\begin{array}{cc} \n",
        "                x & \\hspace{5mm} \\text{if} ~~~ x \\geq 0 \\\\\n",
        "                -x & \\hspace{5mm} \\text{otherwise} \\\\\n",
        "                \\end{array} \\right.\n",
        "\\end{align}\n",
        "$$\n",
        "\n",
        "Functions can be defined in python using lambdas, for example:"
      ]
    },
    {
      "cell_type": "code",
      "metadata": {
        "id": "EYEeepxeyedn"
      },
      "source": [
        "f = lambda x: (4*x + 6*x**2 + 6)/(2*x)\n",
        "\n",
        "abs = lambda x: x if x >= 0 else -x"
      ],
      "execution_count": null,
      "outputs": []
    },
    {
      "cell_type": "markdown",
      "metadata": {
        "id": "pal8-w3Etg5s"
      },
      "source": [
        "We can now evaluate these functions at a point such as for example x = -5:"
      ]
    },
    {
      "cell_type": "code",
      "metadata": {
        "id": "YfGWF1EAtoE3",
        "colab": {
          "base_uri": "https://localhost:8080/",
          "height": 53
        },
        "outputId": "52e2e9f1-e0ed-44d5-e59c-afeda96ec3c1"
      },
      "source": [
        "print(\"f(-5) = {}\".format(f(-5)))\n",
        "print(\"|-5| = {}\".format(abs(-5)))"
      ],
      "execution_count": null,
      "outputs": [
        {
          "output_type": "stream",
          "text": [
            "f(-5) = -13.6\n",
            "|-5| = 5\n"
          ],
          "name": "stdout"
        }
      ]
    },
    {
      "cell_type": "markdown",
      "metadata": {
        "id": "js1PXDdWt9Ob"
      },
      "source": [
        "We can also plot these function using the matplotlib.pyplot library:"
      ]
    },
    {
      "cell_type": "code",
      "metadata": {
        "id": "NKK_50DjuEF1",
        "colab": {
          "base_uri": "https://localhost:8080/",
          "height": 301
        },
        "outputId": "9dfc4313-7766-494a-a3da-bf3cd79f7a0b"
      },
      "source": [
        "import matplotlib.pyplot as plt\n",
        "import numpy as np\n",
        "\n",
        "x_range = np.linspace(-5,5,100)\n",
        "\n",
        "plt.plot(x_range, [f(x) for x in x_range])"
      ],
      "execution_count": 2,
      "outputs": [
        {
          "output_type": "error",
          "ename": "NameError",
          "evalue": "ignored",
          "traceback": [
            "\u001b[0;31m---------------------------------------------------------------------------\u001b[0m",
            "\u001b[0;31mNameError\u001b[0m                                 Traceback (most recent call last)",
            "\u001b[0;32m<ipython-input-2-0941a2fdbc42>\u001b[0m in \u001b[0;36m<module>\u001b[0;34m()\u001b[0m\n\u001b[1;32m      4\u001b[0m \u001b[0mx_range\u001b[0m \u001b[0;34m=\u001b[0m \u001b[0mnp\u001b[0m\u001b[0;34m.\u001b[0m\u001b[0mlinspace\u001b[0m\u001b[0;34m(\u001b[0m\u001b[0;34m-\u001b[0m\u001b[0;36m5\u001b[0m\u001b[0;34m,\u001b[0m\u001b[0;36m5\u001b[0m\u001b[0;34m,\u001b[0m\u001b[0;36m100\u001b[0m\u001b[0;34m)\u001b[0m\u001b[0;34m\u001b[0m\u001b[0;34m\u001b[0m\u001b[0m\n\u001b[1;32m      5\u001b[0m \u001b[0;34m\u001b[0m\u001b[0m\n\u001b[0;32m----> 6\u001b[0;31m \u001b[0mplt\u001b[0m\u001b[0;34m.\u001b[0m\u001b[0mplot\u001b[0m\u001b[0;34m(\u001b[0m\u001b[0mx_range\u001b[0m\u001b[0;34m,\u001b[0m \u001b[0;34m[\u001b[0m\u001b[0mf\u001b[0m\u001b[0;34m(\u001b[0m\u001b[0mx\u001b[0m\u001b[0;34m)\u001b[0m \u001b[0;32mfor\u001b[0m \u001b[0mx\u001b[0m \u001b[0;32min\u001b[0m \u001b[0mx_range\u001b[0m\u001b[0;34m]\u001b[0m\u001b[0;34m)\u001b[0m\u001b[0;34m\u001b[0m\u001b[0;34m\u001b[0m\u001b[0m\n\u001b[0m",
            "\u001b[0;32m<ipython-input-2-0941a2fdbc42>\u001b[0m in \u001b[0;36m<listcomp>\u001b[0;34m(.0)\u001b[0m\n\u001b[1;32m      4\u001b[0m \u001b[0mx_range\u001b[0m \u001b[0;34m=\u001b[0m \u001b[0mnp\u001b[0m\u001b[0;34m.\u001b[0m\u001b[0mlinspace\u001b[0m\u001b[0;34m(\u001b[0m\u001b[0;34m-\u001b[0m\u001b[0;36m5\u001b[0m\u001b[0;34m,\u001b[0m\u001b[0;36m5\u001b[0m\u001b[0;34m,\u001b[0m\u001b[0;36m100\u001b[0m\u001b[0;34m)\u001b[0m\u001b[0;34m\u001b[0m\u001b[0;34m\u001b[0m\u001b[0m\n\u001b[1;32m      5\u001b[0m \u001b[0;34m\u001b[0m\u001b[0m\n\u001b[0;32m----> 6\u001b[0;31m \u001b[0mplt\u001b[0m\u001b[0;34m.\u001b[0m\u001b[0mplot\u001b[0m\u001b[0;34m(\u001b[0m\u001b[0mx_range\u001b[0m\u001b[0;34m,\u001b[0m \u001b[0;34m[\u001b[0m\u001b[0mf\u001b[0m\u001b[0;34m(\u001b[0m\u001b[0mx\u001b[0m\u001b[0;34m)\u001b[0m \u001b[0;32mfor\u001b[0m \u001b[0mx\u001b[0m \u001b[0;32min\u001b[0m \u001b[0mx_range\u001b[0m\u001b[0;34m]\u001b[0m\u001b[0;34m)\u001b[0m\u001b[0;34m\u001b[0m\u001b[0;34m\u001b[0m\u001b[0m\n\u001b[0m",
            "\u001b[0;31mNameError\u001b[0m: name 'f' is not defined"
          ]
        }
      ]
    },
    {
      "cell_type": "code",
      "metadata": {
        "id": "33PaieX6uWEw",
        "colab": {
          "base_uri": "https://localhost:8080/",
          "height": 283
        },
        "outputId": "1d9e6a46-2fa9-4f4f-ebad-91468d844c20"
      },
      "source": [
        "plt.plot(x_range, [abs(x) for x in x_range])"
      ],
      "execution_count": 3,
      "outputs": [
        {
          "output_type": "execute_result",
          "data": {
            "text/plain": [
              "[<matplotlib.lines.Line2D at 0x7f634ee06350>]"
            ]
          },
          "metadata": {},
          "execution_count": 3
        },
        {
          "output_type": "display_data",
          "data": {
            "image/png": "[encoded data removed]",
            "text/plain": [
              "<Figure size 432x288 with 1 Axes>"
            ]
          },
          "metadata": {
            "needs_background": "light"
          }
        }
      ]
    },
    {
      "cell_type": "markdown",
      "metadata": {
        "id": "gfIw7kJSu-UI"
      },
      "source": [
        "### Exercises 2\n",
        "Use Python to plot the following functions:\n",
        "- $f(x) = x + 3x + 5 x^2$\n",
        "- $f(x) = 1/x ~~\\text{if} ~~ x < 0 ~~\\text{otherwise} ~~ x$\n",
        "- $f(x) = -1 ~~\\text{if} ~~ x < 0 ~~\\text{otherwise} ~~ 1$\n",
        "- $f(x) = (2x + 4x^4)/(3 + x^2)$"
      ]
    },
    {
      "cell_type": "code",
      "metadata": {
        "colab": {
          "base_uri": "https://localhost:8080/",
          "height": 283
        },
        "id": "pHm3nOBoTtxR",
        "outputId": "db5e5645-a7cf-4454-e8b3-0cb9d03f4fa2"
      },
      "source": [
        "#Ex.2.1\n",
        "import matplotlib.pyplot as plt\n",
        "import numpy as np\n",
        "\n",
        "f = lambda x: x + 3*x + 5*x**2\n",
        "\n",
        "x_range = np.linspace(-10,10,100)\n",
        "\n",
        "plt.plot(x_range, [f(x) for x in x_range])"
      ],
      "execution_count": 27,
      "outputs": [
        {
          "output_type": "execute_result",
          "data": {
            "text/plain": [
              "[<matplotlib.lines.Line2D at 0x7f634df7fc90>]"
            ]
          },
          "metadata": {},
          "execution_count": 27
        },
        {
          "output_type": "display_data",
          "data": {
            "image/png": "[encoded data removed]",
            "text/plain": [
              "<Figure size 432x288 with 1 Axes>"
            ]
          },
          "metadata": {
            "needs_background": "light"
          }
        }
      ]
    },
    {
      "cell_type": "code",
      "metadata": {
        "colab": {
          "base_uri": "https://localhost:8080/",
          "height": 283
        },
        "id": "ljKEBpNnSh5x",
        "outputId": "257e38b6-7ebd-4bed-9743-a681f9e638ab"
      },
      "source": [
        "#Ex.2.2\n",
        "import matplotlib.pyplot as plt\n",
        "import numpy as np\n",
        "\n",
        "f = lambda x: 1/x if x < 0 else 1\n",
        "\n",
        "x_range = np.linspace(-10,10,100)\n",
        "\n",
        "plt.plot(x_range, [f(x) for x in x_range])\n"
      ],
      "execution_count": 22,
      "outputs": [
        {
          "output_type": "execute_result",
          "data": {
            "text/plain": [
              "[<matplotlib.lines.Line2D at 0x7f634e110390>]"
            ]
          },
          "metadata": {},
          "execution_count": 22
        },
        {
          "output_type": "display_data",
          "data": {
            "image/png": "[encoded data removed]",
            "text/plain": [
              "<Figure size 432x288 with 1 Axes>"
            ]
          },
          "metadata": {
            "needs_background": "light"
          }
        }
      ]
    },
    {
      "cell_type": "code",
      "metadata": {
        "colab": {
          "base_uri": "https://localhost:8080/",
          "height": 283
        },
        "id": "cxaq1tc6T6Qc",
        "outputId": "20d993dd-1584-4db1-eca4-e63194d85ec0"
      },
      "source": [
        "#Ex.2.3\n",
        "import matplotlib.pyplot as plt\n",
        "import numpy as np\n",
        "\n",
        "f = lambda x: -1 if x < 0 else 1\n",
        "\n",
        "x_range = np.linspace(-10,10,100)\n",
        "\n",
        "plt.plot(x_range, [f(x) for x in x_range])\n"
      ],
      "execution_count": 23,
      "outputs": [
        {
          "output_type": "execute_result",
          "data": {
            "text/plain": [
              "[<matplotlib.lines.Line2D at 0x7f634e07add0>]"
            ]
          },
          "metadata": {},
          "execution_count": 23
        },
        {
          "output_type": "display_data",
          "data": {
            "image/png": "[encoded data removed]",
            "text/plain": [
              "<Figure size 432x288 with 1 Axes>"
            ]
          },
          "metadata": {
            "needs_background": "light"
          }
        }
      ]
    },
    {
      "cell_type": "code",
      "metadata": {
        "colab": {
          "base_uri": "https://localhost:8080/",
          "height": 283
        },
        "id": "8C5vo0LxT_Yz",
        "outputId": "dc396e6a-b69c-484c-b8c0-75232a1e8335"
      },
      "source": [
        "#Ex.2.4\n",
        "import matplotlib.pyplot as plt\n",
        "import numpy as np\n",
        "\n",
        "f = lambda x: (2*x-4*x**4)/(3+x**2)\n",
        "\n",
        "x_range = np.linspace(-10,10,100)\n",
        "\n",
        "plt.plot(x_range, [f(x) for x in x_range])\n"
      ],
      "execution_count": 26,
      "outputs": [
        {
          "output_type": "execute_result",
          "data": {
            "text/plain": [
              "[<matplotlib.lines.Line2D at 0x7f634e004c10>]"
            ]
          },
          "metadata": {},
          "execution_count": 26
        },
        {
          "output_type": "display_data",
          "data": {
            "image/png": "[encoded data removed]",
            "text/plain": [
              "<Figure size 432x288 with 1 Axes>"
            ]
          },
          "metadata": {
            "needs_background": "light"
          }
        }
      ]
    },
    {
      "cell_type": "markdown",
      "metadata": {
        "id": "joAqtOllxvyn"
      },
      "source": [
        "## Rational functions\n",
        "\n",
        "Rational functions are defined as ratios of polynomials. the general form of a rational function is:\n",
        "\n",
        "$$\n",
        "f(x) = \\frac{\\sum_n^N \\alpha_n x^n}{\\sum_m^M \\beta_m x^m}\n",
        "$$\n",
        "\n",
        "Rational functions have poles where their value goes to plus or minus infinity. The necessary condition for a point $x'$ to be a pole is that it is a zero of the polynomial in the denumerator:\n",
        "\n",
        "$$\n",
        "\\sum_m^M \\beta_m {x'}^m = 0\n",
        "$$\n",
        "\n",
        "In fact, poles are a consequence of a \"division by zero\". This equation is the kind of algebrain equations you studied in high school. As an example, consider the following rational function:\n",
        "\n",
        "$$\n",
        "f(x) = \\frac{5}{a x^2 + b x + c}\n",
        "$$\n",
        "\n",
        "The equation for the poles is:\n",
        "\n",
        "$$\n",
        "a x^2 + b x + c = 0\n",
        "$$\n",
        "\n",
        "which has the two solutions given by the quadratic formula:\n",
        "\n",
        "$$\n",
        "x_{\\pm} = \\frac{-b \\pm \\sqrt{b^2 - 4 a c}}{2 a}\n",
        "$$\n",
        "\n",
        "In this case, both these solutions are poles of the rational function. However, this is not always the case since a term in the numerator can 'cancel out\" the zero in the denumerator. For example, consider the foillowing function:\n",
        "\n",
        "$$\n",
        "f(x) = \\frac{x^2 - 1}{x^2 - x}\n",
        "$$\n",
        "\n",
        "the solutions of $x^2 - x = 0$ are $x = 0$ and $x = 1$. However, only $x = 0$ is a pole since both numerator and denominator go to zero as $x$ tends to 1 and these two terms exactly cancel out. \n",
        "\n",
        "### Solved exercise 2\n",
        "\n",
        "Prove this.\n",
        "\n",
        "#### Solution\n",
        "the numerator can be factorized as $x^2 - 1 = (x - 1) (x + 1)$ while the denumerator can be factorized as $x^2 - x = x (x - 1)$. Therefore:\n",
        "\n",
        "$$\n",
        "f(x) = \\frac{x^2 - 1}{x^2 - x} = \\frac{(x - 1)(x + 1)}{x (x - 1)} = \\frac{(x + 1)}{x}\n",
        "$$\n",
        "\n",
        "From this, it is easy to see that the only pole is $x = 0$.\n",
        "\n",
        "### Exercises 2\n",
        "Find the poles of the following rational functions:\n",
        "- $f(x) = \\frac{1 + x}{x^3 + x^2}$\n",
        "- $f(x) = \\frac{3}{2 - x^2}$\n",
        "- $f(x) = \\frac{(2 + x)(3 + x)x}{(x - 1)(x^2 + 5x + 6)}$\n",
        "- $f(x) = \\frac{x + 2 + \\sqrt{2}}{2x + 4x^2 + x^3}$\n",
        "- $f(x) = \\frac{x^2 - 1}{1 + 2x + x^2}$\n",
        "\n",
        "#### Solutions\n",
        "- $0$\n",
        "- $\\pm \\sqrt{2}$\n",
        "- $1$\n",
        "- $0, \\sqrt{2} - 2$\n",
        "- $-1$\n",
        "\n",
        "### Python exercises 2\n",
        "Use Python to plot those function on a range and to check your computations. You should see that the function goes to +- infinity around the poles.\n",
        "\n"
      ]
    },
    {
      "cell_type": "code",
      "metadata": {
        "colab": {
          "base_uri": "https://localhost:8080/",
          "height": 283
        },
        "id": "pFriWXT4qD84",
        "outputId": "b3904bc0-27e0-4907-eee8-2d0c9e821333"
      },
      "source": [
        "#ex.2.1\n",
        "import matplotlib.pyplot as plt\n",
        "import numpy as np\n",
        "\n",
        "f = lambda x: (1+x)/(x**3+x**2)\n",
        "\n",
        "x_range = np.linspace(-10,10,100)\n",
        "\n",
        "plt.plot(x_range, [f(x) for x in x_range])\n"
      ],
      "execution_count": 7,
      "outputs": [
        {
          "output_type": "execute_result",
          "data": {
            "text/plain": [
              "[<matplotlib.lines.Line2D at 0x7efc94487110>]"
            ]
          },
          "metadata": {},
          "execution_count": 7
        },
        {
          "output_type": "display_data",
          "data": {
            "image/png": "[encoded data removed]",
            "text/plain": [
              "<Figure size 432x288 with 1 Axes>"
            ]
          },
          "metadata": {
            "needs_background": "light"
          }
        }
      ]
    },
    {
      "cell_type": "code",
      "metadata": {
        "colab": {
          "base_uri": "https://localhost:8080/",
          "height": 283
        },
        "id": "toskkm5cxVcM",
        "outputId": "c8125e57-ec55-4a50-b500-da4c7a1bd808"
      },
      "source": [
        "#ex.2.2\n",
        "import matplotlib.pyplot as plt\n",
        "import numpy as np\n",
        "\n",
        "f = lambda x: (3)/(2-x**2)\n",
        "\n",
        "x_range = np.linspace(-10,10,100)\n",
        "\n",
        "plt.plot(x_range, [f(x) for x in x_range])\n"
      ],
      "execution_count": 10,
      "outputs": [
        {
          "output_type": "execute_result",
          "data": {
            "text/plain": [
              "[<matplotlib.lines.Line2D at 0x7efc9430be50>]"
            ]
          },
          "metadata": {},
          "execution_count": 10
        },
        {
          "output_type": "display_data",
          "data": {
            "image/png": "[encoded data removed]",
            "text/plain": [
              "<Figure size 432x288 with 1 Axes>"
            ]
          },
          "metadata": {
            "needs_background": "light"
          }
        }
      ]
    },
    {
      "cell_type": "code",
      "metadata": {
        "colab": {
          "base_uri": "https://localhost:8080/",
          "height": 283
        },
        "id": "dIfQqs0lxKZZ",
        "outputId": "d833e400-0dbb-4314-974f-83dbc2a87cc8"
      },
      "source": [
        "#ex.2.3\n",
        "import matplotlib.pyplot as plt\n",
        "import numpy as np\n",
        "\n",
        "f = lambda x: ((2+x)*(3+x)*x)/((x-1)*(x**2+5*x+6))\n",
        "\n",
        "x_range = np.linspace(-10,10,100)\n",
        "\n",
        "plt.plot(x_range, [f(x) for x in x_range])\n",
        "\n"
      ],
      "execution_count": 9,
      "outputs": [
        {
          "output_type": "execute_result",
          "data": {
            "text/plain": [
              "[<matplotlib.lines.Line2D at 0x7efc9438de90>]"
            ]
          },
          "metadata": {},
          "execution_count": 9
        },
        {
          "output_type": "display_data",
          "data": {
            "image/png": "[encoded data removed]",
            "text/plain": [
              "<Figure size 432x288 with 1 Axes>"
            ]
          },
          "metadata": {
            "needs_background": "light"
          }
        }
      ]
    },
    {
      "cell_type": "code",
      "metadata": {
        "colab": {
          "base_uri": "https://localhost:8080/",
          "height": 283
        },
        "id": "YOSUCsPVx_5d",
        "outputId": "b22ac3e5-44fe-4def-c386-46326ecc55c4"
      },
      "source": [
        "#ex.2.4\n",
        "import matplotlib.pyplot as plt\n",
        "import math\n",
        "import numpy as np\n",
        "\n",
        "f = lambda x: (x+2+math.sqrt(2))/(2*x+4*x**2+x**3)\n",
        "\n",
        "x_range = np.linspace(-10,10,100)\n",
        "\n",
        "plt.plot(x_range, [f(x) for x in x_range])\n"
      ],
      "execution_count": 12,
      "outputs": [
        {
          "output_type": "execute_result",
          "data": {
            "text/plain": [
              "[<matplotlib.lines.Line2D at 0x7efc94222cd0>]"
            ]
          },
          "metadata": {},
          "execution_count": 12
        },
        {
          "output_type": "display_data",
          "data": {
            "image/png": "[encoded data removed]",
            "text/plain": [
              "<Figure size 432x288 with 1 Axes>"
            ]
          },
          "metadata": {
            "needs_background": "light"
          }
        }
      ]
    },
    {
      "cell_type": "code",
      "metadata": {
        "colab": {
          "base_uri": "https://localhost:8080/",
          "height": 283
        },
        "id": "tu_Q5Q0pyhwW",
        "outputId": "578c345d-5c89-46a2-cfaa-20906bca22c0"
      },
      "source": [
        "#ex.2.5\n",
        "import matplotlib.pyplot as plt\n",
        "import numpy as np\n",
        "\n",
        "f = lambda x: (x**2-1)/(1+2*x+x**2)\n",
        "\n",
        "x_range = np.linspace(-10,10,100)\n",
        "\n",
        "plt.plot(x_range, [f(x) for x in x_range])\n"
      ],
      "execution_count": 13,
      "outputs": [
        {
          "output_type": "execute_result",
          "data": {
            "text/plain": [
              "[<matplotlib.lines.Line2D at 0x7efc941a9f10>]"
            ]
          },
          "metadata": {},
          "execution_count": 13
        },
        {
          "output_type": "display_data",
          "data": {
            "image/png": "[encoded data removed]",
            "text/plain": [
              "<Figure size 432x288 with 1 Axes>"
            ]
          },
          "metadata": {
            "needs_background": "light"
          }
        }
      ]
    },
    {
      "cell_type": "markdown",
      "metadata": {
        "id": "LFmQYHMsx03C"
      },
      "source": [
        "## Asymptotic relations between functions\n",
        "\n",
        "In the previous lecture we discussed asymptotic relations between sequences. We can analogously define asymptotic relations between functions. However, in this case we need to specify a point $x'$ around which we are interested in studying the asymptotic behavior. Two functions $f(x)$ and $g(x)$ are said to be asymptotic around $x'$ when:\n",
        "\n",
        "$$\n",
        "\\lim_{x \\rightarrow x'} \\frac{f(x)}{g(x)} = \\lim_{x \\rightarrow x'} \\frac{g(x)}{f(x)} = 1~.\n",
        "$$\n",
        "\n",
        "In this case, we write $f(x) \\sim g(x)$. However, be careful since this notation \"hides\" the point $x'$. Two factions that are asymptotic at $x'$ are not necessarely asymptotic around any other point!\n",
        "\n",
        "Asymptotic relations between functions are \"boring\" when $f(x)$ and $g(x)$ are continuous $x'$ is neither a pole or a zero of either of functions. In fact, in that case we have:\n",
        "\n",
        "$$\n",
        "\\lim_{x \\rightarrow x'} \\frac{f(x)}{g(x)} =  \\frac{\\lim_{x \\rightarrow x'} f(x)}{\\lim_{x \\rightarrow x'} g(x)} = \\frac{f(x')}{g(x')}~.\n",
        "$$\n",
        "\n",
        "(Note that $\\lim_{x \\rightarrow x'} f(x) = f(x')$ is the definition of continuity) Therefore, two continuous functions that have a non-zero value at $x'$ are asymptotic if and only if the have the same value at $x'$. \n",
        "\n",
        "### Solved exercises 3\n",
        "Are the following two functions asymptotic around $x' = 1\"?\n",
        "\n",
        "$$\n",
        "f(x) = (x - 1) + 3 (x - 1)^2\n",
        "$$\n",
        "\n",
        "$$\n",
        "g(x) = (x - 1)\n",
        "$$\n",
        "\n",
        "#### Solution\n",
        "Yes! Consider the limit of the ratio:\n",
        "\n",
        "$$\n",
        "\\lim_{x \\rightarrow 1} \\frac{(x - 1) + 3 (x - 1)^2}{(x - 1)} = \\lim_{x \\rightarrow 1} \\frac{(x - 1)}{(x - 1)} + \\lim_{x \\rightarrow 1} \\frac{3 (x - 1)^2}{(x - 1)} = 1 + 3 \\lim_{x \\rightarrow 1} (x - 1) = 1\n",
        "$$\n",
        "\n",
        "Note that in this case the lowest power dominates the asymptotic behavior! In fact, the term $(x - 1)^2$ goes to zero much faster than $(x - 1)$  when $x$ tends to $1$ and it is therefore \"irrelevant\". We can see this by plotting those functions using Python:"
      ]
    },
    {
      "cell_type": "code",
      "metadata": {
        "id": "UPjqzA0sx5qk",
        "colab": {
          "base_uri": "https://localhost:8080/",
          "height": 287
        },
        "outputId": "cc80f920-411e-4ff2-9670-65b782e247b0"
      },
      "source": [
        "f1 = lambda x: (x - 1)\n",
        "f2 = lambda x: (x - 1)**2\n",
        "\n",
        "x_range = np.linspace(1,1.5,10)\n",
        "\n",
        "plt.plot(x_range, [f1(x) for x in x_range], label=\"(x - 1)\")\n",
        "plt.plot(x_range, [f2(x) for x in x_range], label=\"(x - 1)^2\")\n",
        "plt.xlim((1,1.5))\n",
        "plt.ylim((0,1))\n",
        "plt.legend(loc=\"best\")"
      ],
      "execution_count": 5,
      "outputs": [
        {
          "output_type": "execute_result",
          "data": {
            "text/plain": [
              "<matplotlib.legend.Legend at 0x7efc949d36d0>"
            ]
          },
          "metadata": {},
          "execution_count": 5
        },
        {
          "output_type": "display_data",
          "data": {
            "image/png": "[encoded data removed]",
            "text/plain": [
              "<Figure size 432x288 with 1 Axes>"
            ]
          },
          "metadata": {
            "needs_background": "light"
          }
        }
      ]
    },
    {
      "cell_type": "markdown",
      "metadata": {
        "id": "elXxwMJPD3xH"
      },
      "source": [
        "### Exercises 3\n",
        "Determine if the following pairs of functions are asymptotic at $x = 0$.\n",
        "- $f(x) = 2x + x^2$, $g(x) = x + x^3$\n",
        "- $f(x) = x + x^2$, $g(x) = x + x^3$\n",
        "- $f(x) = 2 + x$, $g(x) = x$\n",
        "- $f(x) = 1 + x + 4x^2 + 3x^3 + 5x^4$, $g(x) = 1 + x^6\n",
        "- $f(x) = 4 x^6 + x^8$, $g(x) = 3x^3 + 4 x^6$\n",
        "\n",
        "#### Solutions\n",
        "- No\n",
        "- Yes\n",
        "- No\n",
        "- Yes\n",
        "- \n",
        "\n",
        "### Python exercises 3\n",
        "Check those asymptotic relations numerically using Python.\n",
        "\n",
        "#### Solution of the first question\n",
        "Let's write the two functions using Python:"
      ]
    },
    {
      "cell_type": "code",
      "metadata": {
        "id": "wodyT2c9FWQC"
      },
      "source": [
        "f = lambda x: 2*x + x**2\n",
        "g = lambda x: x + x**3"
      ],
      "execution_count": 6,
      "outputs": []
    },
    {
      "cell_type": "markdown",
      "metadata": {
        "id": "vSZ-zhjrFhkw"
      },
      "source": [
        "We can check the limit of the ratio numerically by evaluating their ratio for a very small number such as $0.0001$. Note that we can't evaluate the ratio at zero since dividing by zero would throw an error!"
      ]
    },
    {
      "cell_type": "code",
      "metadata": {
        "id": "7r8ygzXmFzTK",
        "colab": {
          "base_uri": "https://localhost:8080/",
          "height": 35
        },
        "outputId": "a9836732-df03-45ea-ee81-8ee6f8e8a314"
      },
      "source": [
        "print(\"The approximate limit of the ratio is {}\".format(f(0.0001)/g(0.0001)))"
      ],
      "execution_count": null,
      "outputs": [
        {
          "output_type": "stream",
          "text": [
            "The approximate limit of the ratio is 2.0000999799990002\n"
          ],
          "name": "stdout"
        }
      ]
    },
    {
      "cell_type": "code",
      "metadata": {
        "colab": {
          "base_uri": "https://localhost:8080/"
        },
        "id": "-tK5ljzDw6Aq",
        "outputId": "9067bfd5-ac54-4ded-be3b-cd971bbb0c17"
      },
      "source": [
        "#ex3.2\n",
        "f = lambda x: x + x**2\n",
        "g = lambda x: x + x**3\n",
        "print(\"The approximate limit of the ratio is {}\".format(f(0.0001)/g(0.0001)))\n"
      ],
      "execution_count": 14,
      "outputs": [
        {
          "output_type": "stream",
          "name": "stdout",
          "text": [
            "The approximate limit of the ratio is 1.0000999899990002\n"
          ]
        }
      ]
    },
    {
      "cell_type": "code",
      "metadata": {
        "colab": {
          "base_uri": "https://localhost:8080/"
        },
        "id": "HO7Y4Huxy9J3",
        "outputId": "2df64f7f-b4de-44cd-9d33-98182cd269ed"
      },
      "source": [
        "#ex3.3\n",
        "f = lambda x: 2 + x\n",
        "g = lambda x: x\n",
        "print(\"The approximate limit of the ratio is {}\".format(f(0.0001)/g(0.0001)))\n"
      ],
      "execution_count": 15,
      "outputs": [
        {
          "output_type": "stream",
          "name": "stdout",
          "text": [
            "The approximate limit of the ratio is 20001.0\n"
          ]
        }
      ]
    },
    {
      "cell_type": "markdown",
      "metadata": {
        "id": "QnxKs4ZCGAsS"
      },
      "source": [
        "The result is clearly not close to one, therefore the two sequences are not asymptotic.\n",
        "\n",
        "## Asymptotic relations involving trascendental functions\n",
        "\n",
        "Trascendental functions are functions that cannot be written in terms on polynomials. Typical examples are the exponential, its inverse the logarithm and trigonometric functions such as sine, cosine and tangent. While trascendental functions are more complicated than polynomials, using asymptotic relations we can reduce them locally to much simpler functions. For example, the function:\n",
        "\n",
        "$$\n",
        "f(x) = \\exp(x) - 1\n",
        "$$\n",
        "\n",
        "is asymptotic to $x$ for $x$ tending to $0$. here is a list of useful asymptitic relations involving transcendetal functions (for $x$ tending to zero):\n",
        "- $\\exp(x) - 1 \\sim x$\n",
        "- $\\sin(x) \\sim x$\n",
        "- $\\cos(x) - 1 \\sim -\\frac{1}{2} x^2$\n",
        "- $\\tan(x) \\sim x$\n",
        "- $\\log(1 + x) \\sim x$\n",
        "\n",
        "### Python exercises 4\n",
        "Plot each of these functions together with its asymptoticly related simple function. You should try to understand what asymptotically related functions have in common.\n",
        "\n",
        "#### Solution of question one"
      ]
    },
    {
      "cell_type": "code",
      "metadata": {
        "id": "vRh2Vo0ETt30",
        "colab": {
          "base_uri": "https://localhost:8080/",
          "height": 283
        },
        "outputId": "154bbe2a-68e6-4f64-bbd2-e956b5b33fab"
      },
      "source": [
        "f = lambda x: np.exp(x) - 1\n",
        "g = lambda x: x\n",
        "\n",
        "x_range = np.linspace(-1,1,100)\n",
        "\n",
        "plt.plot(x_range, [f(x) for x in x_range], label=\"exp(x)\")\n",
        "plt.plot(x_range, [g(x) for x in x_range], label=\"x\")\n",
        "plt.legend(loc=\"best\")"
      ],
      "execution_count": null,
      "outputs": [
        {
          "output_type": "execute_result",
          "data": {
            "text/plain": [
              "<matplotlib.legend.Legend at 0x7f5b684558d0>"
            ]
          },
          "metadata": {
            "tags": []
          },
          "execution_count": 60
        },
        {
          "output_type": "display_data",
          "data": {
            "image/png": "[encoded data removed]",
            "text/plain": [
              "<Figure size 432x288 with 1 Axes>"
            ]
          },
          "metadata": {
            "tags": [],
            "needs_background": "light"
          }
        }
      ]
    },
    {
      "cell_type": "code",
      "metadata": {
        "colab": {
          "base_uri": "https://localhost:8080/",
          "height": 398
        },
        "id": "XBNF6L2-6EJS",
        "outputId": "403a034f-55b3-4e29-9242-eeedc461dd0a"
      },
      "source": [
        "#ex.4.2\n",
        "import math\n",
        "\n",
        "f = lambda x: math.sin()\n",
        "g = lambda x: x\n",
        "\n",
        "x_range = np.linspace(-1,1,100)\n",
        "\n",
        "plt.plot(x_range, [f(x) for x in x_range], label=\"exp(x)\")\n",
        "plt.plot(x_range, [g(x) for x in x_range], label=\"x\")\n",
        "plt.legend(loc=\"best\")"
      ],
      "execution_count": 17,
      "outputs": [
        {
          "output_type": "error",
          "ename": "TypeError",
          "evalue": "ignored",
          "traceback": [
            "\u001b[0;31m---------------------------------------------------------------------------\u001b[0m",
            "\u001b[0;31mTypeError\u001b[0m                                 Traceback (most recent call last)",
            "\u001b[0;32m<ipython-input-17-a358fdcda45c>\u001b[0m in \u001b[0;36m<module>\u001b[0;34m()\u001b[0m\n\u001b[1;32m      7\u001b[0m \u001b[0mx_range\u001b[0m \u001b[0;34m=\u001b[0m \u001b[0mnp\u001b[0m\u001b[0;34m.\u001b[0m\u001b[0mlinspace\u001b[0m\u001b[0;34m(\u001b[0m\u001b[0;34m-\u001b[0m\u001b[0;36m1\u001b[0m\u001b[0;34m,\u001b[0m\u001b[0;36m1\u001b[0m\u001b[0;34m,\u001b[0m\u001b[0;36m100\u001b[0m\u001b[0;34m)\u001b[0m\u001b[0;34m\u001b[0m\u001b[0;34m\u001b[0m\u001b[0m\n\u001b[1;32m      8\u001b[0m \u001b[0;34m\u001b[0m\u001b[0m\n\u001b[0;32m----> 9\u001b[0;31m \u001b[0mplt\u001b[0m\u001b[0;34m.\u001b[0m\u001b[0mplot\u001b[0m\u001b[0;34m(\u001b[0m\u001b[0mx_range\u001b[0m\u001b[0;34m,\u001b[0m \u001b[0;34m[\u001b[0m\u001b[0mf\u001b[0m\u001b[0;34m(\u001b[0m\u001b[0mx\u001b[0m\u001b[0;34m)\u001b[0m \u001b[0;32mfor\u001b[0m \u001b[0mx\u001b[0m \u001b[0;32min\u001b[0m \u001b[0mx_range\u001b[0m\u001b[0;34m]\u001b[0m\u001b[0;34m,\u001b[0m \u001b[0mlabel\u001b[0m\u001b[0;34m=\u001b[0m\u001b[0;34m\"exp(x)\"\u001b[0m\u001b[0;34m)\u001b[0m\u001b[0;34m\u001b[0m\u001b[0;34m\u001b[0m\u001b[0m\n\u001b[0m\u001b[1;32m     10\u001b[0m \u001b[0mplt\u001b[0m\u001b[0;34m.\u001b[0m\u001b[0mplot\u001b[0m\u001b[0;34m(\u001b[0m\u001b[0mx_range\u001b[0m\u001b[0;34m,\u001b[0m \u001b[0;34m[\u001b[0m\u001b[0mg\u001b[0m\u001b[0;34m(\u001b[0m\u001b[0mx\u001b[0m\u001b[0;34m)\u001b[0m \u001b[0;32mfor\u001b[0m \u001b[0mx\u001b[0m \u001b[0;32min\u001b[0m \u001b[0mx_range\u001b[0m\u001b[0;34m]\u001b[0m\u001b[0;34m,\u001b[0m \u001b[0mlabel\u001b[0m\u001b[0;34m=\u001b[0m\u001b[0;34m\"x\"\u001b[0m\u001b[0;34m)\u001b[0m\u001b[0;34m\u001b[0m\u001b[0;34m\u001b[0m\u001b[0m\n\u001b[1;32m     11\u001b[0m \u001b[0mplt\u001b[0m\u001b[0;34m.\u001b[0m\u001b[0mlegend\u001b[0m\u001b[0;34m(\u001b[0m\u001b[0mloc\u001b[0m\u001b[0;34m=\u001b[0m\u001b[0;34m\"best\"\u001b[0m\u001b[0;34m)\u001b[0m\u001b[0;34m\u001b[0m\u001b[0;34m\u001b[0m\u001b[0m\n",
            "\u001b[0;32m<ipython-input-17-a358fdcda45c>\u001b[0m in \u001b[0;36m<listcomp>\u001b[0;34m(.0)\u001b[0m\n\u001b[1;32m      7\u001b[0m \u001b[0mx_range\u001b[0m \u001b[0;34m=\u001b[0m \u001b[0mnp\u001b[0m\u001b[0;34m.\u001b[0m\u001b[0mlinspace\u001b[0m\u001b[0;34m(\u001b[0m\u001b[0;34m-\u001b[0m\u001b[0;36m1\u001b[0m\u001b[0;34m,\u001b[0m\u001b[0;36m1\u001b[0m\u001b[0;34m,\u001b[0m\u001b[0;36m100\u001b[0m\u001b[0;34m)\u001b[0m\u001b[0;34m\u001b[0m\u001b[0;34m\u001b[0m\u001b[0m\n\u001b[1;32m      8\u001b[0m \u001b[0;34m\u001b[0m\u001b[0m\n\u001b[0;32m----> 9\u001b[0;31m \u001b[0mplt\u001b[0m\u001b[0;34m.\u001b[0m\u001b[0mplot\u001b[0m\u001b[0;34m(\u001b[0m\u001b[0mx_range\u001b[0m\u001b[0;34m,\u001b[0m \u001b[0;34m[\u001b[0m\u001b[0mf\u001b[0m\u001b[0;34m(\u001b[0m\u001b[0mx\u001b[0m\u001b[0;34m)\u001b[0m \u001b[0;32mfor\u001b[0m \u001b[0mx\u001b[0m \u001b[0;32min\u001b[0m \u001b[0mx_range\u001b[0m\u001b[0;34m]\u001b[0m\u001b[0;34m,\u001b[0m \u001b[0mlabel\u001b[0m\u001b[0;34m=\u001b[0m\u001b[0;34m\"exp(x)\"\u001b[0m\u001b[0;34m)\u001b[0m\u001b[0;34m\u001b[0m\u001b[0;34m\u001b[0m\u001b[0m\n\u001b[0m\u001b[1;32m     10\u001b[0m \u001b[0mplt\u001b[0m\u001b[0;34m.\u001b[0m\u001b[0mplot\u001b[0m\u001b[0;34m(\u001b[0m\u001b[0mx_range\u001b[0m\u001b[0;34m,\u001b[0m \u001b[0;34m[\u001b[0m\u001b[0mg\u001b[0m\u001b[0;34m(\u001b[0m\u001b[0mx\u001b[0m\u001b[0;34m)\u001b[0m \u001b[0;32mfor\u001b[0m \u001b[0mx\u001b[0m \u001b[0;32min\u001b[0m \u001b[0mx_range\u001b[0m\u001b[0;34m]\u001b[0m\u001b[0;34m,\u001b[0m \u001b[0mlabel\u001b[0m\u001b[0;34m=\u001b[0m\u001b[0;34m\"x\"\u001b[0m\u001b[0;34m)\u001b[0m\u001b[0;34m\u001b[0m\u001b[0;34m\u001b[0m\u001b[0m\n\u001b[1;32m     11\u001b[0m \u001b[0mplt\u001b[0m\u001b[0;34m.\u001b[0m\u001b[0mlegend\u001b[0m\u001b[0;34m(\u001b[0m\u001b[0mloc\u001b[0m\u001b[0;34m=\u001b[0m\u001b[0;34m\"best\"\u001b[0m\u001b[0;34m)\u001b[0m\u001b[0;34m\u001b[0m\u001b[0;34m\u001b[0m\u001b[0m\n",
            "\u001b[0;32m<ipython-input-17-a358fdcda45c>\u001b[0m in \u001b[0;36m<lambda>\u001b[0;34m(x)\u001b[0m\n\u001b[1;32m      2\u001b[0m \u001b[0;32mimport\u001b[0m \u001b[0mmath\u001b[0m\u001b[0;34m\u001b[0m\u001b[0;34m\u001b[0m\u001b[0m\n\u001b[1;32m      3\u001b[0m \u001b[0;34m\u001b[0m\u001b[0m\n\u001b[0;32m----> 4\u001b[0;31m \u001b[0mf\u001b[0m \u001b[0;34m=\u001b[0m \u001b[0;32mlambda\u001b[0m \u001b[0mx\u001b[0m\u001b[0;34m:\u001b[0m \u001b[0mmath\u001b[0m\u001b[0;34m.\u001b[0m\u001b[0msin\u001b[0m\u001b[0;34m(\u001b[0m\u001b[0;34m)\u001b[0m\u001b[0;34m\u001b[0m\u001b[0;34m\u001b[0m\u001b[0m\n\u001b[0m\u001b[1;32m      5\u001b[0m \u001b[0mg\u001b[0m \u001b[0;34m=\u001b[0m \u001b[0;32mlambda\u001b[0m \u001b[0mx\u001b[0m\u001b[0;34m:\u001b[0m \u001b[0mx\u001b[0m\u001b[0;34m\u001b[0m\u001b[0;34m\u001b[0m\u001b[0m\n\u001b[1;32m      6\u001b[0m \u001b[0;34m\u001b[0m\u001b[0m\n",
            "\u001b[0;31mTypeError\u001b[0m: sin() takes exactly one argument (0 given)"
          ]
        }
      ]
    },
    {
      "cell_type": "markdown",
      "metadata": {
        "id": "qTmkP92MUm9b"
      },
      "source": [
        "## Computing limits using asymptotics\n",
        "\n",
        "Like in the case of sequences, asymptotic relations are very useful when we need to compute limits. Like for sequences, two functions that are asymptotically related around a point $x'$ have the same limit at $x'$ (if they have a limit). Furthermore, we can divide and multiply both sides of an asymptotic relation by a third function $h(x)$ and still get a valid asymptotic relation. However, note that we CANNOT sum or subtract a function from both sides of an asymptotic relation.\n",
        "\n",
        "We can use these results to compute undeterminate limits of ratios of functions that go to zero at $x'$. For exanple, consider the following limit:\n",
        "\n",
        "$$\n",
        "\\lim_{x \\rightarrow 0} \\frac{\\sin(x)}{x + x^2}\n",
        "$$\n",
        "\n",
        "Using the asymptotic relation of the size at zero, we get:\n",
        "\n",
        "$$\n",
        "\\frac{\\sin(x)}{x + x^2} \\sim \\frac{x}{x + x^2} =  \\frac{1}{1 + x}\n",
        "$$\n",
        "\n",
        "Therefore:\n",
        "\n",
        "$$\n",
        "\\lim_{x \\rightarrow 0} \\frac{\\sin(x)}{x} = \\lim_{x \\rightarrow 0} \\frac{1}{1 + x} = 1\n",
        "$$\n",
        "\n",
        "### Exercises 5\n",
        "Compute the limit of the following functions for $x$ tending to $0$.\n",
        "- $f(x) = \\frac{x^2 + 5 x^5}{3x^2 + 3 x^4}$\n",
        "- $f(x) = \\frac{x \\sin(x)}{7x^2 + x^4}$\n",
        "- $f(x) = \\frac{5(\\exp(x) - 1)x^2}{8x^7 + 2x^3 + x^{12}}$\n",
        "- $f(x) = \\frac{x}{\\tan(x)}$\n",
        "- $f(x) = \\frac{\\exp(x)^2 - 1}{x}$\n",
        "- $f(x) = \\frac{\\cos(x)^2 - 1}{x^2}$\n",
        "- $f(x) = \\frac{\\tan(x)^2}{\\cos(x) - 1}$\n",
        "- $f(x) = \\frac{2x + x^2 + 5 x^5}{x + 3x^2 + 3 x^4 + 3x}$\n",
        "\n",
        "#### Solutions\n",
        "- $1/3$\n",
        "- $1/7$\n",
        "- $5/2$\n",
        "- $1$\n",
        "- $2$\n",
        "- $-1$\n",
        "- $-2$\n",
        "- $1/2$"
      ]
    }
  ]
}